{
 "cells": [
  {
   "cell_type": "markdown",
   "metadata": {},
   "source": [
    "# Capestone Project - Japanese Bakery in San Francisco"
   ]
  },
  {
   "cell_type": "markdown",
   "metadata": {},
   "source": [
    "Introduction / Business Problem:\n",
    "\n",
    "I am representing a family who is moving to San Francisco from Los Angeles. They had a Japanese bakery in LA's Little Tokyo and are hoping to open a Japanese bakery somewhere in San Francisco. They want to be in a location where there are other food establishments in the area but that don't have many (if any) bakeries. They would also really like to be located near shops, movie theaters, and/or parks since they think there will be a lot of foot traffic in those areas."
   ]
  },
  {
   "cell_type": "markdown",
   "metadata": {},
   "source": [
    "Data:\n",
    "\n",
    "I will use map data and Foursquare neighborhood data to figure out the best neighborhood for the family to open up their bakery in. For every food establishment in the area I will assign +1 count and for every shop, movie theater, park I will assign +2 counts. Then for every bakery I will deduct -3 counts. At the end I will look at the total counts for each neighborhood and make my recommendation based on the neighborhood with the highest number of points."
   ]
  },
  {
   "cell_type": "code",
   "execution_count": null,
   "metadata": {},
   "outputs": [],
   "source": []
  }
 ],
 "metadata": {
  "kernelspec": {
   "display_name": "Python 3",
   "language": "python",
   "name": "python3"
  },
  "language_info": {
   "codemirror_mode": {
    "name": "ipython",
    "version": 3
   },
   "file_extension": ".py",
   "mimetype": "text/x-python",
   "name": "python",
   "nbconvert_exporter": "python",
   "pygments_lexer": "ipython3",
   "version": "3.8.2"
  }
 },
 "nbformat": 4,
 "nbformat_minor": 4
}
